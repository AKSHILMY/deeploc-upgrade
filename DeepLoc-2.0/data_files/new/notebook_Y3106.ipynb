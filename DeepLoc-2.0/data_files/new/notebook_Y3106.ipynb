{
 "cells": [
  {
   "cell_type": "code",
   "execution_count": null,
   "metadata": {},
   "outputs": [],
   "source": [
    "import scipy.io\n",
    "import pandas as pd\n",
    "import pandas as pd\n",
    "from Bio import pairwise2"
   ]
  },
  {
   "cell_type": "code",
   "execution_count": null,
   "metadata": {},
   "outputs": [],
   "source": [
    "mat = scipy.io.loadmat('./dataset_3106.mat') \n",
    "mat = {k:v for k, v in mat.items() if k[0] != '_'}"
   ]
  },
  {
   "cell_type": "code",
   "execution_count": null,
   "metadata": {},
   "outputs": [],
   "source": [
    "mat"
   ]
  },
  {
   "cell_type": "code",
   "execution_count": null,
   "metadata": {},
   "outputs": [],
   "source": [
    "data = pd.DataFrame({k: pd.Series(v[0]) for k, v in mat.items()})"
   ]
  },
  {
   "cell_type": "code",
   "execution_count": null,
   "metadata": {},
   "outputs": [],
   "source": [
    "data"
   ]
  },
  {
   "cell_type": "code",
   "execution_count": null,
   "metadata": {},
   "outputs": [],
   "source": [
    "Y_3106_df = pd.DataFrame(mat['Y_3106'])\n",
    "label_name_flat = [item[0][0] for item in mat['label_name']]\n",
    "label_name_df = pd.DataFrame(label_name_flat, columns=['label_name'])\n",
    "protein_list_flat = [item[0] for item in mat['protein_list'][0]]\n",
    "protein_list_df = pd.DataFrame(protein_list_flat, columns=['ACC'])\n",
    "sequence_3106_flat = [item[0][0] for item in mat['sequence_3106']]\n",
    "sequence_3106_df = pd.DataFrame(sequence_3106_flat, columns=['sequence_3106'])\n"
   ]
  },
  {
   "cell_type": "code",
   "execution_count": null,
   "metadata": {},
   "outputs": [],
   "source": [
    "Y_3106_df.columns = [label_name_df['label_name']]\n",
    "Y_3106_df['sequence'] = sequence_3106_df['sequence_3106']\n",
    "Y_3106_df['ACC'] = protein_list_df['ACC']"
   ]
  },
  {
   "cell_type": "code",
   "execution_count": null,
   "metadata": {},
   "outputs": [],
   "source": [
    "Y_3106_df.columns"
   ]
  },
  {
   "cell_type": "code",
   "execution_count": null,
   "metadata": {},
   "outputs": [],
   "source": [
    "Y_3106_df"
   ]
  },
  {
   "cell_type": "code",
   "execution_count": null,
   "metadata": {},
   "outputs": [],
   "source": [
    "Y_3106_df.columns.shape[0]-5-2"
   ]
  },
  {
   "cell_type": "code",
   "execution_count": null,
   "metadata": {},
   "outputs": [],
   "source": [
    "Y_3106_df.to_csv(\"./Y_3106.csv\")"
   ]
  },
  {
   "cell_type": "code",
   "execution_count": null,
   "metadata": {},
   "outputs": [],
   "source": [
    "default = pd.read_csv(\"../multisub_5_partitions_unique.csv\")\n",
    "y_3106_df = pd.read_csv(\"./Y_3106.csv\")"
   ]
  },
  {
   "cell_type": "code",
   "execution_count": null,
   "metadata": {},
   "outputs": [],
   "source": [
    "default.columns,y_3106_df.columns"
   ]
  },
  {
   "cell_type": "code",
   "execution_count": null,
   "metadata": {},
   "outputs": [],
   "source": [
    "# Manually removing columns\n",
    "columns_to_remove_in_y_3106 = [\n",
    "    'Centrosome',\n",
    "    'Cytoskeleton',\n",
    "    'Endosome',\n",
    "    'Microsome',\n",
    "    'Synapse',\n",
    "    'label_name'\n",
    "]\n",
    "y_3106_df = y_3106_df.drop(columns_to_remove_in_y_3106,axis=1)\n"
   ]
  },
  {
   "cell_type": "code",
   "execution_count": null,
   "metadata": {},
   "outputs": [],
   "source": [
    "columns_to_rename_in_y_3106 = {\n",
    "    # old name : new name\n",
    "    'Endoplasmic-Reticulum' : 'Endoplasmic reticulum',\n",
    "    'Golgi-Apparatus' : 'Golgi apparatus',\n",
    "    'Lysosome' : 'Lysosome/Vacuole',\n",
    "    'Plasma-Membrane' : 'Cell membrane',\n",
    "}\n",
    "\n",
    "y_3106_df = y_3106_df.rename(columns=columns_to_rename_in_y_3106)"
   ]
  },
  {
   "cell_type": "code",
   "execution_count": null,
   "metadata": {},
   "outputs": [],
   "source": [
    "columns_to_add_in_y_3106 = {\n",
    "    # column name : default value\n",
    "    'Kingdom' : '',\n",
    "    'Partition' : '',\n",
    "    'Membrane' : 0.0,\n",
    "    'Plastid' : 0.0,\n",
    "}\n",
    "for col in columns_to_add_in_y_3106:\n",
    "    y_3106_df[col] = columns_to_add_in_y_3106[col]"
   ]
  },
  {
   "cell_type": "code",
   "execution_count": null,
   "metadata": {},
   "outputs": [],
   "source": [
    "y_3106_df"
   ]
  },
  {
   "cell_type": "code",
   "execution_count": null,
   "metadata": {},
   "outputs": [],
   "source": [
    "default =default.drop('Unnamed: 0',axis=1)"
   ]
  },
  {
   "cell_type": "code",
   "execution_count": null,
   "metadata": {},
   "outputs": [],
   "source": [
    "default.columns.shape[0],y_3106_df.columns.shape[0]"
   ]
  },
  {
   "cell_type": "code",
   "execution_count": null,
   "metadata": {},
   "outputs": [],
   "source": [
    "combined_df = pd.concat([default,y_3106_df],ignore_index=True)"
   ]
  },
  {
   "cell_type": "code",
   "execution_count": null,
   "metadata": {},
   "outputs": [],
   "source": [
    "combined_df.to_csv(\"./default_updated_Y3106.csv\")"
   ]
  },
  {
   "cell_type": "code",
   "execution_count": 47,
   "metadata": {},
   "outputs": [
    {
     "name": "stdout",
     "output_type": "stream",
     "text": [
      "0 0 0 0 0 0 0 0 0 0 0 0 0 0 0 0 0 0 0 0 0 0 0 0 0 0 0 0 0 0 0 0 0 0 0 0 0 "
     ]
    }
   ],
   "source": [
    "def calculate_similarity(seq1, seq2):\n",
    "    alignments = pairwise2.align.globalxx(seq1, seq2)\n",
    "    best_alignment = alignments[0]\n",
    "    aligned_seq1, aligned_seq2, score, start, end = best_alignment\n",
    "    similarity_percentage = score / max(len(seq1), len(seq2)) * 100\n",
    "    return similarity_percentage\n",
    "\n",
    "# Filter the second dataframe based on the similarity condition\n",
    "y_3106_df_filtered = y_3106_df[y_3106_df['sequence'].apply(lambda seq2: all(calculate_similarity(seq2, seq1) <= 30 for seq1 in default['Sequence']))]\n",
    "\n",
    "# Display the filtered dataframe\n",
    "print(y_3106_df_filtered)\n"
   ]
  }
 ],
 "metadata": {
  "kernelspec": {
   "display_name": ".venv",
   "language": "python",
   "name": "python3"
  },
  "language_info": {
   "codemirror_mode": {
    "name": "ipython",
    "version": 3
   },
   "file_extension": ".py",
   "mimetype": "text/x-python",
   "name": "python",
   "nbconvert_exporter": "python",
   "pygments_lexer": "ipython3",
   "version": "3.10.12"
  }
 },
 "nbformat": 4,
 "nbformat_minor": 2
}
